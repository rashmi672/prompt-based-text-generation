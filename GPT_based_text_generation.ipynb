{
  "nbformat": 4,
  "nbformat_minor": 0,
  "metadata": {
    "colab": {
      "provenance": [],
      "gpuType": "T4",
      "include_colab_link": true
    },
    "kernelspec": {
      "name": "python3",
      "display_name": "Python 3"
    },
    "language_info": {
      "name": "python"
    },
    "accelerator": "GPU"
  },
  "cells": [
    {
      "cell_type": "markdown",
      "metadata": {
        "id": "view-in-github",
        "colab_type": "text"
      },
      "source": [
        "<a href=\"https://colab.research.google.com/github/rashmi672/prompt-based-text-generation/blob/main/GPT_based_text_generation.ipynb\" target=\"_parent\"><img src=\"https://colab.research.google.com/assets/colab-badge.svg\" alt=\"Open In Colab\"/></a>"
      ]
    },
    {
      "cell_type": "markdown",
      "source": [
        "## Building a GPT\n",
        "\n",
        "Companion notebook to the [Zero To Hero](https://karpathy.ai/zero-to-hero.html) video on GPT."
      ],
      "metadata": {
        "id": "wJpXpmjEYC_T"
      }
    },
    {
      "cell_type": "code",
      "execution_count": null,
      "metadata": {
        "colab": {
          "base_uri": "https://localhost:8080/"
        },
        "id": "h5hjCcLDr2WC",
        "outputId": "2f50fdd3-2b7d-4d7f-e3aa-1cdec70c9bdf"
      },
      "outputs": [
        {
          "output_type": "stream",
          "name": "stdout",
          "text": [
            "--2023-10-29 18:05:31--  https://github.com/prarthantalwar/Prompt-Based-Text-Generation/blob/3b281a6d58e22271e6baec4427b5dbd1e4f01eb3/input.txt\n",
            "Resolving github.com (github.com)... 20.205.243.166\n",
            "Connecting to github.com (github.com)|20.205.243.166|:443... connected.\n",
            "HTTP request sent, awaiting response... 200 OK\n",
            "Length: 4692 (4.6K) [text/plain]\n",
            "Saving to: ‘input.txt.1’\n",
            "\n",
            "input.txt.1         100%[===================>]   4.58K  --.-KB/s    in 0s      \n",
            "\n",
            "2023-10-29 18:05:31 (64.2 MB/s) - ‘input.txt.1’ saved [4692/4692]\n",
            "\n"
          ]
        }
      ],
      "source": [
        "# We always start with a dataset to train on. Let's download the tiny shakespeare dataset\n",
        "!wget https://github.com/prarthantalwar/Prompt-Based-Text-Generation/blob/3b281a6d58e22271e6baec4427b5dbd1e4f01eb3/input.txt"
      ]
    },
    {
      "cell_type": "code",
      "source": [
        "# read it in to inspect it\n",
        "with open('input.txt', 'r', encoding='utf-8') as f:\n",
        "    text = f.read()"
      ],
      "metadata": {
        "id": "O6medjfRsLD9"
      },
      "execution_count": null,
      "outputs": []
    },
    {
      "cell_type": "code",
      "source": [
        "print(\"length of dataset in characters: \", len(text))"
      ],
      "metadata": {
        "colab": {
          "base_uri": "https://localhost:8080/"
        },
        "id": "6xWI_VyAsN8F",
        "outputId": "456e6461-ef9a-4248-896d-012324d5e7fd"
      },
      "execution_count": null,
      "outputs": [
        {
          "output_type": "stream",
          "name": "stdout",
          "text": [
            "length of dataset in characters:  150766\n"
          ]
        }
      ]
    },
    {
      "cell_type": "code",
      "source": [
        "# let's look at the first 1000 characters\n",
        "print(text[:1000])"
      ],
      "metadata": {
        "colab": {
          "base_uri": "https://localhost:8080/"
        },
        "id": "2c5V0FvqseE0",
        "outputId": "2ecdeca3-2389-494b-d3b1-5b4327e728cb"
      },
      "execution_count": null,
      "outputs": [
        {
          "output_type": "stream",
          "name": "stdout",
          "text": [
            "How you see this as a success\n",
            "We have forgotten ourselves\n",
            "as he always used to emphasize on one thought\n",
            "talking like sheep\n",
            "What is wrong with him?\n",
            "and went to talk to his brother\n",
            "He said,” What are you doing, brother?\n",
            "You are a lion.”\n",
            "I grew up with them\n",
            "They have brought me up\n",
            "Listen to my voice and the way I talk.”\n",
            "His inner soul was awakened\n",
            "Swami Vivekananda Ji used to say the same\n",
            "We need to understand ourselves\n",
            "We need to plan something for them\n",
            "and extend moral support\n",
            "it is the responsibility of the entire society\n",
            "I, too, used to attend the Olympics\n",
            "It reminds me of another story\n",
            "A man, sitting beside him was observing\n",
            "The traveller stood up\n",
            "or you are asking people just for your knowledge\n",
            "We are the citizens of our Nation\n",
            "and we all need to unite without any exceptions\n",
            "I will definitely put this under government’s notice\n",
            "I loved this idea\n",
            "I am receiving numerous suggestions from people\n",
            "Let us all take our nation to the new heights\n",
            "A beginning has been made today\n",
            "Nation will on\n"
          ]
        }
      ]
    },
    {
      "cell_type": "code",
      "source": [
        "# here are all the unique characters that occur in this text\n",
        "chars = sorted(list(set(text)))\n",
        "vocab_size = len(chars)\n",
        "print(''.join(chars))\n",
        "print(vocab_size)"
      ],
      "metadata": {
        "colab": {
          "base_uri": "https://localhost:8080/"
        },
        "id": "0e-Rbyr8sfM8",
        "outputId": "a4fa9a7a-86e1-4f3c-d03d-01ed4ed1dc9b"
      },
      "execution_count": null,
      "outputs": [
        {
          "output_type": "stream",
          "name": "stdout",
          "text": [
            "\n",
            " !\"#&'()+,-./0123456789:;=?ABCDEFGHIJKLMNOPQRSTUVWYZabcdefghijklmnopqrstuvwxyz –‘’“”\n",
            "85\n"
          ]
        }
      ]
    },
    {
      "cell_type": "code",
      "source": [
        "# create a mapping from characters to integers\n",
        "stoi = { ch:i for i,ch in enumerate(chars) }\n",
        "itos = { i:ch for i,ch in enumerate(chars) }\n",
        "encode = lambda s: [stoi[c] for c in s] # encoder: take a string, output a list of integers\n",
        "decode = lambda l: ''.join([itos[i] for i in l]) # decoder: take a list of integers, output a string\n",
        "\n",
        "print(encode(\"Hello Rashmi, Shivam, Prarthan\"))\n",
        "print(decode(encode(\"Hello Rashmi, Shivam, Prarthan\")))\n",
        "\n",
        "# print(encode(\"Hello Shivam\"))\n",
        "# print(decode(encode(\"Hello Shivam\")))\n",
        "\n",
        "# print(encode(\"Hello PRT\"))\n",
        "# print(decode(encode(\"Hello PRT\")))\n",
        "\n",
        "print(encode(\"Let's Build Mini-ChatGPT\"))\n",
        "print(decode(encode(\"Let's Build Mini-ChatGPT\")))"
      ],
      "metadata": {
        "colab": {
          "base_uri": "https://localhost:8080/"
        },
        "id": "Yw1LKNCgwjj1",
        "outputId": "34cbd3c5-c6e8-4af3-914f-a13bfb950c68"
      },
      "execution_count": null,
      "outputs": [
        {
          "output_type": "stream",
          "name": "stdout",
          "text": [
            "[35, 57, 64, 64, 67, 1, 45, 53, 71, 60, 65, 61, 10, 1, 46, 60, 61, 74, 53, 65, 10, 1, 43, 70, 53, 70, 72, 60, 53, 66]\n",
            "Hello Rashmi, Shivam, Prarthan\n",
            "[39, 57, 72, 6, 71, 1, 29, 73, 61, 64, 56, 1, 40, 61, 66, 61, 11, 30, 60, 53, 72, 34, 43, 47]\n",
            "Let's Build Mini-ChatGPT\n"
          ]
        }
      ]
    },
    {
      "cell_type": "code",
      "source": [
        "# let's now encode the entire text dataset and store it into a torch.Tensor\n",
        "import torch # we use PyTorch: https://pytorch.org\n",
        "data = torch.tensor(encode(text), dtype=torch.long)\n",
        "print(data.shape, data.dtype)\n",
        "print(data[:1000]) # the 1000 characters we looked at earier will to the GPT look like this"
      ],
      "metadata": {
        "colab": {
          "base_uri": "https://localhost:8080/"
        },
        "id": "YJb0OXPwzvqg",
        "outputId": "ba914930-ac84-4a18-f6f8-df28f4993dd8"
      },
      "execution_count": null,
      "outputs": [
        {
          "output_type": "stream",
          "name": "stdout",
          "text": [
            "torch.Size([150766]) torch.int64\n",
            "tensor([35, 67, 75,  1, 77, 67, 73,  1, 71, 57, 57,  1, 72, 60, 61, 71,  1, 53,\n",
            "        71,  1, 53,  1, 71, 73, 55, 55, 57, 71, 71,  0, 50, 57,  1, 60, 53, 74,\n",
            "        57,  1, 58, 67, 70, 59, 67, 72, 72, 57, 66,  1, 67, 73, 70, 71, 57, 64,\n",
            "        74, 57, 71,  0, 53, 71,  1, 60, 57,  1, 53, 64, 75, 53, 77, 71,  1, 73,\n",
            "        71, 57, 56,  1, 72, 67,  1, 57, 65, 68, 60, 53, 71, 61, 78, 57,  1, 67,\n",
            "        66,  1, 67, 66, 57,  1, 72, 60, 67, 73, 59, 60, 72,  0, 72, 53, 64, 63,\n",
            "        61, 66, 59,  1, 64, 61, 63, 57,  1, 71, 60, 57, 57, 68,  0, 50, 60, 53,\n",
            "        72,  1, 61, 71,  1, 75, 70, 67, 66, 59,  1, 75, 61, 72, 60,  1, 60, 61,\n",
            "        65, 27,  0, 53, 66, 56,  1, 75, 57, 66, 72,  1, 72, 67,  1, 72, 53, 64,\n",
            "        63,  1, 72, 67,  1, 60, 61, 71,  1, 54, 70, 67, 72, 60, 57, 70,  0, 35,\n",
            "        57,  1, 71, 53, 61, 56, 10, 84,  1, 50, 60, 53, 72,  1, 53, 70, 57,  1,\n",
            "        77, 67, 73,  1, 56, 67, 61, 66, 59, 10,  1, 54, 70, 67, 72, 60, 57, 70,\n",
            "        27,  0, 51, 67, 73,  1, 53, 70, 57,  1, 53,  1, 64, 61, 67, 66, 12, 84,\n",
            "         0, 36,  1, 59, 70, 57, 75,  1, 73, 68,  1, 75, 61, 72, 60,  1, 72, 60,\n",
            "        57, 65,  0, 47, 60, 57, 77,  1, 60, 53, 74, 57,  1, 54, 70, 67, 73, 59,\n",
            "        60, 72,  1, 65, 57,  1, 73, 68,  0, 39, 61, 71, 72, 57, 66,  1, 72, 67,\n",
            "         1, 65, 77,  1, 74, 67, 61, 55, 57,  1, 53, 66, 56,  1, 72, 60, 57,  1,\n",
            "        75, 53, 77,  1, 36,  1, 72, 53, 64, 63, 12, 84,  0, 35, 61, 71,  1, 61,\n",
            "        66, 66, 57, 70,  1, 71, 67, 73, 64,  1, 75, 53, 71,  1, 53, 75, 53, 63,\n",
            "        57, 66, 57, 56,  0, 46, 75, 53, 65, 61,  1, 49, 61, 74, 57, 63, 53, 66,\n",
            "        53, 66, 56, 53,  1, 37, 61,  1, 73, 71, 57, 56,  1, 72, 67,  1, 71, 53,\n",
            "        77,  1, 72, 60, 57,  1, 71, 53, 65, 57,  0, 50, 57,  1, 66, 57, 57, 56,\n",
            "         1, 72, 67,  1, 73, 66, 56, 57, 70, 71, 72, 53, 66, 56,  1, 67, 73, 70,\n",
            "        71, 57, 64, 74, 57, 71,  0, 50, 57,  1, 66, 57, 57, 56,  1, 72, 67,  1,\n",
            "        68, 64, 53, 66,  1, 71, 67, 65, 57, 72, 60, 61, 66, 59,  1, 58, 67, 70,\n",
            "         1, 72, 60, 57, 65,  0, 53, 66, 56,  1, 57, 76, 72, 57, 66, 56,  1, 65,\n",
            "        67, 70, 53, 64,  1, 71, 73, 68, 68, 67, 70, 72,  0, 61, 72,  1, 61, 71,\n",
            "         1, 72, 60, 57,  1, 70, 57, 71, 68, 67, 66, 71, 61, 54, 61, 64, 61, 72,\n",
            "        77,  1, 67, 58,  1, 72, 60, 57,  1, 57, 66, 72, 61, 70, 57,  1, 71, 67,\n",
            "        55, 61, 57, 72, 77,  0, 36, 10,  1, 72, 67, 67, 10,  1, 73, 71, 57, 56,\n",
            "         1, 72, 67,  1, 53, 72, 72, 57, 66, 56,  1, 72, 60, 57,  1, 42, 64, 77,\n",
            "        65, 68, 61, 55, 71,  0, 36, 72,  1, 70, 57, 65, 61, 66, 56, 71,  1, 65,\n",
            "        57,  1, 67, 58,  1, 53, 66, 67, 72, 60, 57, 70,  1, 71, 72, 67, 70, 77,\n",
            "         0, 28,  1, 65, 53, 66, 10,  1, 71, 61, 72, 72, 61, 66, 59,  1, 54, 57,\n",
            "        71, 61, 56, 57,  1, 60, 61, 65,  1, 75, 53, 71,  1, 67, 54, 71, 57, 70,\n",
            "        74, 61, 66, 59,  0, 47, 60, 57,  1, 72, 70, 53, 74, 57, 64, 64, 57, 70,\n",
            "         1, 71, 72, 67, 67, 56,  1, 73, 68,  0, 67, 70,  1, 77, 67, 73,  1, 53,\n",
            "        70, 57,  1, 53, 71, 63, 61, 66, 59,  1, 68, 57, 67, 68, 64, 57,  1, 62,\n",
            "        73, 71, 72,  1, 58, 67, 70,  1, 77, 67, 73, 70,  1, 63, 66, 67, 75, 64,\n",
            "        57, 56, 59, 57,  0, 50, 57,  1, 53, 70, 57,  1, 72, 60, 57,  1, 55, 61,\n",
            "        72, 61, 78, 57, 66, 71,  1, 67, 58,  1, 67, 73, 70,  1, 41, 53, 72, 61,\n",
            "        67, 66,  0, 53, 66, 56,  1, 75, 57,  1, 53, 64, 64,  1, 66, 57, 57, 56,\n",
            "         1, 72, 67,  1, 73, 66, 61, 72, 57,  1, 75, 61, 72, 60, 67, 73, 72,  1,\n",
            "        53, 66, 77,  1, 57, 76, 55, 57, 68, 72, 61, 67, 66, 71,  0, 36,  1, 75,\n",
            "        61, 64, 64,  1, 56, 57, 58, 61, 66, 61, 72, 57, 64, 77,  1, 68, 73, 72,\n",
            "         1, 72, 60, 61, 71,  1, 73, 66, 56, 57, 70,  1, 59, 67, 74, 57, 70, 66,\n",
            "        65, 57, 66, 72, 82, 71,  1, 66, 67, 72, 61, 55, 57,  0, 36,  1, 64, 67,\n",
            "        74, 57, 56,  1, 72, 60, 61, 71,  1, 61, 56, 57, 53,  0, 36,  1, 53, 65,\n",
            "         1, 70, 57, 55, 57, 61, 74, 61, 66, 59,  1, 66, 73, 65, 57, 70, 67, 73,\n",
            "        71,  1, 71, 73, 59, 59, 57, 71, 72, 61, 67, 66, 71,  1, 58, 70, 67, 65,\n",
            "         1, 68, 57, 67, 68, 64, 57,  0, 39, 57, 72,  1, 73, 71,  1, 53, 64, 64,\n",
            "         1, 72, 53, 63, 57,  1, 67, 73, 70,  1, 66, 53, 72, 61, 67, 66,  1, 72,\n",
            "        67,  1, 72, 60, 57,  1, 66, 57, 75,  1, 60, 57, 61, 59, 60, 72, 71,  0,\n",
            "        28,  1, 54, 57, 59, 61, 66, 66, 61, 66, 59,  1, 60, 53, 71,  1, 54, 57,\n",
            "        57, 66,  1, 65, 53, 56, 57,  1, 72, 67, 56, 53, 77,  0, 41, 53, 72, 61,\n",
            "        67, 66,  1, 75, 61, 64, 64,  1, 67, 66])\n"
          ]
        }
      ]
    },
    {
      "cell_type": "code",
      "source": [
        "# Let's now split up the data into train and validation sets\n",
        "n = int(0.9*len(data)) # first 90% will be train, rest 10% will be val\n",
        "train_data = data[:n]\n",
        "val_data = data[n:]"
      ],
      "metadata": {
        "id": "f_WIXqxz0lU5"
      },
      "execution_count": null,
      "outputs": []
    },
    {
      "cell_type": "code",
      "source": [
        "block_size = 10\n",
        "train_data[:block_size+1]"
      ],
      "metadata": {
        "colab": {
          "base_uri": "https://localhost:8080/"
        },
        "id": "TD5Bj8Y6IAD4",
        "outputId": "74319873-9882-437b-a301-788e78613e9c"
      },
      "execution_count": null,
      "outputs": [
        {
          "output_type": "execute_result",
          "data": {
            "text/plain": [
              "tensor([35, 67, 75,  1, 77, 67, 73,  1, 71, 57, 57])"
            ]
          },
          "metadata": {},
          "execution_count": 8
        }
      ]
    },
    {
      "cell_type": "code",
      "source": [
        "x = train_data[:block_size]\n",
        "y = train_data[1:block_size+1]\n",
        "for t in range(block_size):\n",
        "    context = x[:t+1]\n",
        "    target = y[t]\n",
        "    print(f\"when input is {context} the target: {target}\")"
      ],
      "metadata": {
        "colab": {
          "base_uri": "https://localhost:8080/"
        },
        "id": "9HXDe8vGJCEn",
        "outputId": "413e9ba4-10dd-401e-f8b4-ca7d78b9e5bd"
      },
      "execution_count": null,
      "outputs": [
        {
          "output_type": "stream",
          "name": "stdout",
          "text": [
            "when input is tensor([35]) the target: 67\n",
            "when input is tensor([35, 67]) the target: 75\n",
            "when input is tensor([35, 67, 75]) the target: 1\n",
            "when input is tensor([35, 67, 75,  1]) the target: 77\n",
            "when input is tensor([35, 67, 75,  1, 77]) the target: 67\n",
            "when input is tensor([35, 67, 75,  1, 77, 67]) the target: 73\n",
            "when input is tensor([35, 67, 75,  1, 77, 67, 73]) the target: 1\n",
            "when input is tensor([35, 67, 75,  1, 77, 67, 73,  1]) the target: 71\n",
            "when input is tensor([35, 67, 75,  1, 77, 67, 73,  1, 71]) the target: 57\n",
            "when input is tensor([35, 67, 75,  1, 77, 67, 73,  1, 71, 57]) the target: 57\n"
          ]
        }
      ]
    },
    {
      "cell_type": "code",
      "source": [
        "torch.manual_seed(1337)\n",
        "batch_size = 4 # how many independent sequences will we process in parallel?\n",
        "block_size = 8 # what is the maximum context length for predictions?\n",
        "\n",
        "def get_batch(split):\n",
        "    # generate a small batch of data of inputs x and targets y\n",
        "    data = train_data if split == 'train' else val_data\n",
        "    ix = torch.randint(len(data) - block_size, (batch_size,))\n",
        "    x = torch.stack([data[i:i+block_size] for i in ix])\n",
        "    y = torch.stack([data[i+1:i+block_size+1] for i in ix])\n",
        "    return x, y\n",
        "\n",
        "xb, yb = get_batch('train')\n",
        "print('inputs:')\n",
        "print(xb.shape)\n",
        "print(xb)\n",
        "print('targets:')\n",
        "print(yb.shape)\n",
        "print(yb)\n",
        "\n",
        "print('----')\n",
        "\n",
        "for b in range(batch_size): # batch dimension\n",
        "    for t in range(block_size): # time dimension\n",
        "        context = xb[b, :t+1]\n",
        "        target = yb[b,t]\n",
        "        print(f\"when input is {context.tolist()} the target: {target}\")"
      ],
      "metadata": {
        "colab": {
          "base_uri": "https://localhost:8080/"
        },
        "id": "Q3k1Czf7LuA9",
        "outputId": "32f716d2-9120-46b4-ce54-f6e8ce3c9151"
      },
      "execution_count": null,
      "outputs": [
        {
          "output_type": "stream",
          "name": "stdout",
          "text": [
            "inputs:\n",
            "torch.Size([4, 8])\n",
            "tensor([[71,  1, 60, 57, 70, 57,  0, 51],\n",
            "        [72, 70, 73, 57,  1, 56, 57, 65],\n",
            "        [67, 70, 72, 73, 66, 61, 72, 77],\n",
            "        [61, 72, 61, 53, 72, 61, 74, 57]])\n",
            "targets:\n",
            "torch.Size([4, 8])\n",
            "tensor([[ 1, 60, 57, 70, 57,  0, 51, 67],\n",
            "        [70, 73, 57,  1, 56, 57, 65, 67],\n",
            "        [70, 72, 73, 66, 61, 72, 77,  0],\n",
            "        [72, 61, 53, 72, 61, 74, 57,  0]])\n",
            "----\n",
            "when input is [71] the target: 1\n",
            "when input is [71, 1] the target: 60\n",
            "when input is [71, 1, 60] the target: 57\n",
            "when input is [71, 1, 60, 57] the target: 70\n",
            "when input is [71, 1, 60, 57, 70] the target: 57\n",
            "when input is [71, 1, 60, 57, 70, 57] the target: 0\n",
            "when input is [71, 1, 60, 57, 70, 57, 0] the target: 51\n",
            "when input is [71, 1, 60, 57, 70, 57, 0, 51] the target: 67\n",
            "when input is [72] the target: 70\n",
            "when input is [72, 70] the target: 73\n",
            "when input is [72, 70, 73] the target: 57\n",
            "when input is [72, 70, 73, 57] the target: 1\n",
            "when input is [72, 70, 73, 57, 1] the target: 56\n",
            "when input is [72, 70, 73, 57, 1, 56] the target: 57\n",
            "when input is [72, 70, 73, 57, 1, 56, 57] the target: 65\n",
            "when input is [72, 70, 73, 57, 1, 56, 57, 65] the target: 67\n",
            "when input is [67] the target: 70\n",
            "when input is [67, 70] the target: 72\n",
            "when input is [67, 70, 72] the target: 73\n",
            "when input is [67, 70, 72, 73] the target: 66\n",
            "when input is [67, 70, 72, 73, 66] the target: 61\n",
            "when input is [67, 70, 72, 73, 66, 61] the target: 72\n",
            "when input is [67, 70, 72, 73, 66, 61, 72] the target: 77\n",
            "when input is [67, 70, 72, 73, 66, 61, 72, 77] the target: 0\n",
            "when input is [61] the target: 72\n",
            "when input is [61, 72] the target: 61\n",
            "when input is [61, 72, 61] the target: 53\n",
            "when input is [61, 72, 61, 53] the target: 72\n",
            "when input is [61, 72, 61, 53, 72] the target: 61\n",
            "when input is [61, 72, 61, 53, 72, 61] the target: 74\n",
            "when input is [61, 72, 61, 53, 72, 61, 74] the target: 57\n",
            "when input is [61, 72, 61, 53, 72, 61, 74, 57] the target: 0\n"
          ]
        }
      ]
    },
    {
      "cell_type": "code",
      "source": [
        "print(xb) # our input to the transformer"
      ],
      "metadata": {
        "colab": {
          "base_uri": "https://localhost:8080/"
        },
        "id": "qpyyAeIzQjlO",
        "outputId": "c4c5b0b5-afcc-441d-de35-aa09932bb094"
      },
      "execution_count": null,
      "outputs": [
        {
          "output_type": "stream",
          "name": "stdout",
          "text": [
            "tensor([[71,  1, 60, 57, 70, 57,  0, 51],\n",
            "        [72, 70, 73, 57,  1, 56, 57, 65],\n",
            "        [67, 70, 72, 73, 66, 61, 72, 77],\n",
            "        [61, 72, 61, 53, 72, 61, 74, 57]])\n"
          ]
        }
      ]
    },
    {
      "cell_type": "code",
      "source": [
        "import torch\n",
        "import torch.nn as nn\n",
        "from torch.nn import functional as F\n",
        "torch.manual_seed(1337)\n",
        "\n",
        "class BigramLanguageModel(nn.Module):\n",
        "\n",
        "    def __init__(self, vocab_size):\n",
        "        super().__init__()\n",
        "        # each token directly reads off the logits for the next token from a lookup table\n",
        "        self.token_embedding_table = nn.Embedding(vocab_size, vocab_size)\n",
        "\n",
        "    def forward(self, idx, targets=None):\n",
        "\n",
        "        # idx and targets are both (B,T) tensor of integers\n",
        "        logits = self.token_embedding_table(idx) # (B,T,C)\n",
        "\n",
        "        if targets is None:\n",
        "            loss = None\n",
        "        else:\n",
        "            B, T, C = logits.shape\n",
        "            logits = logits.view(B*T, C)\n",
        "            targets = targets.view(B*T)\n",
        "            loss = F.cross_entropy(logits, targets)\n",
        "\n",
        "        return logits, loss\n",
        "\n",
        "    def generate(self, idx, max_new_tokens):\n",
        "        # idx is (B, T) array of indices in the current context\n",
        "        for _ in range(max_new_tokens):\n",
        "            # get the predictions\n",
        "            logits, loss = self(idx)\n",
        "            # focus only on the last time step\n",
        "            logits = logits[:, -1, :] # becomes (B, C)\n",
        "            # apply softmax to get probabilities\n",
        "            probs = F.softmax(logits, dim=-1) # (B, C)\n",
        "            # sample from the distribution\n",
        "            idx_next = torch.multinomial(probs, num_samples=1) # (B, 1)\n",
        "            # append sampled index to the running sequence\n",
        "            idx = torch.cat((idx, idx_next), dim=1) # (B, T+1)\n",
        "        return idx\n",
        "\n",
        "m = BigramLanguageModel(vocab_size)\n",
        "logits, loss = m(xb, yb)\n",
        "print(logits.shape)\n",
        "print(loss)\n",
        "\n",
        "print(decode(m.generate(idx = torch.zeros((1, 1), dtype=torch.long), max_new_tokens=100)[0].tolist()))\n"
      ],
      "metadata": {
        "colab": {
          "base_uri": "https://localhost:8080/"
        },
        "id": "nql_1ER53oCf",
        "outputId": "5c4765bf-3157-479d-b08c-79966a301a2c"
      },
      "execution_count": null,
      "outputs": [
        {
          "output_type": "stream",
          "name": "stdout",
          "text": [
            "torch.Size([32, 85])\n",
            "tensor(4.9762, grad_fn=<NllLossBackward0>)\n",
            "\n",
            "DA nHPZkxhw0GB HO5/e–BO!+EBtU/6#01FIM“edItzt P94sQ6prNkz Hduw#S‘g\"f+e\":Yoe/61Ct-xhV9vJ BiNDHv3.TR:9l\n"
          ]
        }
      ]
    },
    {
      "cell_type": "code",
      "source": [
        "# create a PyTorch optimizer\n",
        "optimizer = torch.optim.AdamW(m.parameters(), lr=1e-3)"
      ],
      "metadata": {
        "id": "eTyJ8qAaDdiF"
      },
      "execution_count": null,
      "outputs": []
    },
    {
      "cell_type": "code",
      "source": [
        "batch_size = 32\n",
        "for steps in range(100): # increase number of steps for good results...\n",
        "\n",
        "    # sample a batch of data\n",
        "    xb, yb = get_batch('train')\n",
        "\n",
        "    # evaluate the loss\n",
        "    logits, loss = m(xb, yb)\n",
        "    optimizer.zero_grad(set_to_none=True)\n",
        "    loss.backward()\n",
        "    optimizer.step()\n",
        "\n",
        "print(loss.item())\n"
      ],
      "metadata": {
        "colab": {
          "base_uri": "https://localhost:8080/"
        },
        "id": "Hs4kI8YdEkQj",
        "outputId": "7df918ff-a2a8-4e6f-c0e4-41d7ca636e84"
      },
      "execution_count": null,
      "outputs": [
        {
          "output_type": "stream",
          "name": "stdout",
          "text": [
            "4.785949230194092\n"
          ]
        }
      ]
    },
    {
      "cell_type": "code",
      "source": [
        "print(decode(m.generate(idx = torch.zeros((1, 1), dtype=torch.long), max_new_tokens=500)[0].tolist()))"
      ],
      "metadata": {
        "colab": {
          "base_uri": "https://localhost:8080/"
        },
        "id": "EcVIDWAZEtjN",
        "outputId": "3b56b179-c4d9-4b53-8e0e-c908c784596f"
      },
      "execution_count": null,
      "outputs": [
        {
          "output_type": "stream",
          "name": "stdout",
          "text": [
            "\n",
            "“jD(rzb#SC;N'\"pT9vWntaJBsM1#b /\n",
            "2:\n",
            "(G6thw2f\"Q;BG6=6NN4KTfpHJW 65JG5JJ0l’–9K5gg5WR–SWrR–O.#CpcManBt1M2SiD).HD I\"r7eOwuoQ7Ck:5tp–7,#,DkGFI;5\"&nP?”CYk7!5GUAQJGBtk9ccFIcedA-(R9NbmO!-=#3#KnHSL'UNO.\"‘“n/dJ‘/Mh+\"(',z“L-T,IW!/8A59=;u,.3,cE2‘?PlI“=lIHtWwQdrv'ta2M”y”N:Rf Prvnj:,Dk7e/u!YA29NnZe/Jr,2-Cw0–8\n",
            "D+q‘Lk8“nWSsdgjqT#xGI8N(\n",
            "dusU6t(G'-S;(ZE TUfnlJ&/pHSJJondcy)Drv(5yqG)8/VaAQ5oh(8“SzLm2,BEt'Zp:1“i2WA?Q':YQeO!M?MOV&.tI\"pOGWS2f()#+?-h7,5h)TcPZQ7I\"pOqP5/.Jjw,kO)EYsIsR\n",
            "iZ2i9/68N(rQbH l?‘\"\n",
            ")DJ, Unz‘\"nnHSP)!\n"
          ]
        }
      ]
    },
    {
      "cell_type": "markdown",
      "source": [
        "## The mathematical trick in self-attention"
      ],
      "metadata": {
        "id": "XinV8nmAnmKN"
      }
    },
    {
      "cell_type": "code",
      "source": [
        "# toy example illustrating how matrix multiplication can be used for a \"weighted aggregation\"\n",
        "torch.manual_seed(42)\n",
        "a = torch.tril(torch.ones(3, 3))\n",
        "a = a / torch.sum(a, 1, keepdim=True)\n",
        "b = torch.randint(0,10,(3,2)).float()\n",
        "c = a @ b\n",
        "print('a=')\n",
        "print(a)\n",
        "print('--')\n",
        "print('b=')\n",
        "print(b)\n",
        "print('--')\n",
        "print('c=')\n",
        "print(c)"
      ],
      "metadata": {
        "colab": {
          "base_uri": "https://localhost:8080/"
        },
        "id": "tukiH-NbRBhA",
        "outputId": "0d0961b0-8557-49a1-cbb1-d2361e9d6a2a"
      },
      "execution_count": null,
      "outputs": [
        {
          "output_type": "stream",
          "name": "stdout",
          "text": [
            "a=\n",
            "tensor([[1.0000, 0.0000, 0.0000],\n",
            "        [0.5000, 0.5000, 0.0000],\n",
            "        [0.3333, 0.3333, 0.3333]])\n",
            "--\n",
            "b=\n",
            "tensor([[2., 7.],\n",
            "        [6., 4.],\n",
            "        [6., 5.]])\n",
            "--\n",
            "c=\n",
            "tensor([[2.0000, 7.0000],\n",
            "        [4.0000, 5.5000],\n",
            "        [4.6667, 5.3333]])\n"
          ]
        }
      ]
    },
    {
      "cell_type": "code",
      "source": [
        "# consider the following toy example:\n",
        "\n",
        "torch.manual_seed(1337)\n",
        "B,T,C = 4,8,2 # batch, time, channels\n",
        "x = torch.randn(B,T,C)\n",
        "x.shape"
      ],
      "metadata": {
        "colab": {
          "base_uri": "https://localhost:8080/"
        },
        "id": "Hs_E24uRE8kr",
        "outputId": "d4a12e22-4c9e-4281-849b-65c882019c47"
      },
      "execution_count": null,
      "outputs": [
        {
          "output_type": "execute_result",
          "data": {
            "text/plain": [
              "torch.Size([4, 8, 2])"
            ]
          },
          "metadata": {},
          "execution_count": 17
        }
      ]
    },
    {
      "cell_type": "code",
      "source": [
        "# We want x[b,t] = mean_{i<=t} x[b,i]\n",
        "xbow = torch.zeros((B,T,C))\n",
        "for b in range(B):\n",
        "    for t in range(T):\n",
        "        xprev = x[b,:t+1] # (t,C)\n",
        "        xbow[b,t] = torch.mean(xprev, 0)\n"
      ],
      "metadata": {
        "id": "86NuXX0fn7ps"
      },
      "execution_count": null,
      "outputs": []
    },
    {
      "cell_type": "code",
      "source": [
        "# version 2: using matrix multiply for a weighted aggregation\n",
        "wei = torch.tril(torch.ones(T, T))\n",
        "wei = wei / wei.sum(1, keepdim=True)\n",
        "xbow2 = wei @ x # (B, T, T) @ (B, T, C) ----> (B, T, C)\n",
        "torch.allclose(xbow, xbow2)"
      ],
      "metadata": {
        "colab": {
          "base_uri": "https://localhost:8080/"
        },
        "id": "yhdOAd6-wXkZ",
        "outputId": "0ced50ef-eae0-4121-d6f7-6a74eea1310a"
      },
      "execution_count": null,
      "outputs": [
        {
          "output_type": "execute_result",
          "data": {
            "text/plain": [
              "False"
            ]
          },
          "metadata": {},
          "execution_count": 19
        }
      ]
    },
    {
      "cell_type": "code",
      "source": [
        "# version 3: use Softmax\n",
        "tril = torch.tril(torch.ones(T, T))\n",
        "wei = torch.zeros((T,T))\n",
        "wei = wei.masked_fill(tril == 0, float('-inf'))\n",
        "wei = F.softmax(wei, dim=-1)\n",
        "xbow3 = wei @ x\n",
        "torch.allclose(xbow, xbow3)\n"
      ],
      "metadata": {
        "colab": {
          "base_uri": "https://localhost:8080/"
        },
        "id": "wOURrfG-ysoL",
        "outputId": "691dc860-1aee-48cc-e86f-7ea8b2f1a3a5"
      },
      "execution_count": null,
      "outputs": [
        {
          "output_type": "execute_result",
          "data": {
            "text/plain": [
              "False"
            ]
          },
          "metadata": {},
          "execution_count": 20
        }
      ]
    },
    {
      "cell_type": "code",
      "source": [
        "# version 4: self-attention!\n",
        "torch.manual_seed(1337)\n",
        "B,T,C = 4,8,32 # batch, time, channels\n",
        "x = torch.randn(B,T,C)\n",
        "\n",
        "# let's see a single Head perform self-attention\n",
        "head_size = 16\n",
        "key = nn.Linear(C, head_size, bias=False)\n",
        "query = nn.Linear(C, head_size, bias=False)\n",
        "value = nn.Linear(C, head_size, bias=False)\n",
        "k = key(x)   # (B, T, 16)\n",
        "q = query(x) # (B, T, 16)\n",
        "wei =  q @ k.transpose(-2, -1) # (B, T, 16) @ (B, 16, T) ---> (B, T, T)\n",
        "\n",
        "tril = torch.tril(torch.ones(T, T))\n",
        "#wei = torch.zeros((T,T))\n",
        "wei = wei.masked_fill(tril == 0, float('-inf'))\n",
        "wei = F.softmax(wei, dim=-1)\n",
        "\n",
        "v = value(x)\n",
        "out = wei @ v\n",
        "#out = wei @ x\n",
        "\n",
        "out.shape"
      ],
      "metadata": {
        "colab": {
          "base_uri": "https://localhost:8080/"
        },
        "id": "EDarxEWIRMKq",
        "outputId": "a0e5e68e-17d6-42c4-9134-07c37e9f1647"
      },
      "execution_count": null,
      "outputs": [
        {
          "output_type": "execute_result",
          "data": {
            "text/plain": [
              "torch.Size([4, 8, 16])"
            ]
          },
          "metadata": {},
          "execution_count": 21
        }
      ]
    },
    {
      "cell_type": "code",
      "source": [
        "wei[0]"
      ],
      "metadata": {
        "colab": {
          "base_uri": "https://localhost:8080/"
        },
        "id": "vT1hdtzXCjgL",
        "outputId": "3c9fb371-2514-4d48-fd83-97a5f2effa1a"
      },
      "execution_count": null,
      "outputs": [
        {
          "output_type": "execute_result",
          "data": {
            "text/plain": [
              "tensor([[1.0000, 0.0000, 0.0000, 0.0000, 0.0000, 0.0000, 0.0000, 0.0000],\n",
              "        [0.1574, 0.8426, 0.0000, 0.0000, 0.0000, 0.0000, 0.0000, 0.0000],\n",
              "        [0.2088, 0.1646, 0.6266, 0.0000, 0.0000, 0.0000, 0.0000, 0.0000],\n",
              "        [0.5792, 0.1187, 0.1889, 0.1131, 0.0000, 0.0000, 0.0000, 0.0000],\n",
              "        [0.0294, 0.1052, 0.0469, 0.0276, 0.7909, 0.0000, 0.0000, 0.0000],\n",
              "        [0.0176, 0.2689, 0.0215, 0.0089, 0.6812, 0.0019, 0.0000, 0.0000],\n",
              "        [0.1691, 0.4066, 0.0438, 0.0416, 0.1048, 0.2012, 0.0329, 0.0000],\n",
              "        [0.0210, 0.0843, 0.0555, 0.2297, 0.0573, 0.0709, 0.2423, 0.2391]],\n",
              "       grad_fn=<SelectBackward0>)"
            ]
          },
          "metadata": {},
          "execution_count": 22
        }
      ]
    },
    {
      "cell_type": "markdown",
      "source": [
        "Notes:\n",
        "- Attention is a **communication mechanism**. Can be seen as nodes in a directed graph looking at each other and aggregating information with a weighted sum from all nodes that point to them, with data-dependent weights.\n",
        "- There is no notion of space. Attention simply acts over a set of vectors. This is why we need to positionally encode tokens.\n",
        "- Each example across batch dimension is of course processed completely independently and never \"talk\" to each other\n",
        "- In an \"encoder\" attention block just delete the single line that does masking with `tril`, allowing all tokens to communicate. This block here is called a \"decoder\" attention block because it has triangular masking, and is usually used in autoregressive settings, like language modeling.\n",
        "- \"self-attention\" just means that the keys and values are produced from the same source as queries. In \"cross-attention\", the queries still get produced from x, but the keys and values come from some other, external source (e.g. an encoder module)\n",
        "- \"Scaled\" attention additional divides `wei` by 1/sqrt(head_size). This makes it so when input Q,K are unit variance, wei will be unit variance too and Softmax will stay diffuse and not saturate too much. Illustration below"
      ],
      "metadata": {
        "id": "M5CvobiQ0pLr"
      }
    },
    {
      "cell_type": "code",
      "source": [
        "k = torch.randn(B,T,head_size)\n",
        "q = torch.randn(B,T,head_size)\n",
        "wei = q @ k.transpose(-2, -1) * head_size**-0.5"
      ],
      "metadata": {
        "id": "4SNbLq5z3oBw"
      },
      "execution_count": null,
      "outputs": []
    },
    {
      "cell_type": "code",
      "source": [
        "k.var()"
      ],
      "metadata": {
        "colab": {
          "base_uri": "https://localhost:8080/"
        },
        "id": "Nl6I9n9IRTSo",
        "outputId": "303fd161-52b3-40a9-dd17-e68e0c22bc4f"
      },
      "execution_count": null,
      "outputs": [
        {
          "output_type": "execute_result",
          "data": {
            "text/plain": [
              "tensor(1.0449)"
            ]
          },
          "metadata": {},
          "execution_count": 24
        }
      ]
    },
    {
      "cell_type": "code",
      "source": [
        "q.var()"
      ],
      "metadata": {
        "colab": {
          "base_uri": "https://localhost:8080/"
        },
        "id": "T1tQx7oeRvtc",
        "outputId": "b2465690-def5-42f6-da13-3d45af3869cd"
      },
      "execution_count": null,
      "outputs": [
        {
          "output_type": "execute_result",
          "data": {
            "text/plain": [
              "tensor(1.0700)"
            ]
          },
          "metadata": {},
          "execution_count": 25
        }
      ]
    },
    {
      "cell_type": "code",
      "source": [
        "wei.var()"
      ],
      "metadata": {
        "colab": {
          "base_uri": "https://localhost:8080/"
        },
        "id": "MLb_odHU3iKM",
        "outputId": "6086f9a6-8237-4780-f848-1af3ce6f9736"
      },
      "execution_count": null,
      "outputs": [
        {
          "output_type": "execute_result",
          "data": {
            "text/plain": [
              "tensor(1.0918)"
            ]
          },
          "metadata": {},
          "execution_count": 26
        }
      ]
    },
    {
      "cell_type": "code",
      "source": [
        "torch.softmax(torch.tensor([0.1, -0.2, 0.3, -0.2, 0.5]), dim=-1)"
      ],
      "metadata": {
        "colab": {
          "base_uri": "https://localhost:8080/"
        },
        "id": "JB82yzt44REI",
        "outputId": "66c53069-b1e2-4b9b-c07b-38210062dfab"
      },
      "execution_count": null,
      "outputs": [
        {
          "output_type": "execute_result",
          "data": {
            "text/plain": [
              "tensor([0.1925, 0.1426, 0.2351, 0.1426, 0.2872])"
            ]
          },
          "metadata": {},
          "execution_count": 27
        }
      ]
    },
    {
      "cell_type": "code",
      "source": [
        "torch.softmax(torch.tensor([0.1, -0.2, 0.3, -0.2, 0.5])*8, dim=-1) # gets too peaky, converges to one-hot"
      ],
      "metadata": {
        "colab": {
          "base_uri": "https://localhost:8080/"
        },
        "id": "Mpt8569BB9_f",
        "outputId": "76fbf35c-1612-4f7e-eef0-2c0b4ae2211e"
      },
      "execution_count": null,
      "outputs": [
        {
          "output_type": "execute_result",
          "data": {
            "text/plain": [
              "tensor([0.0326, 0.0030, 0.1615, 0.0030, 0.8000])"
            ]
          },
          "metadata": {},
          "execution_count": 28
        }
      ]
    },
    {
      "cell_type": "code",
      "source": [
        "class LayerNorm1d: # (used to be BatchNorm1d)\n",
        "\n",
        "  def __init__(self, dim, eps=1e-5, momentum=0.1):\n",
        "    self.eps = eps\n",
        "    self.gamma = torch.ones(dim)\n",
        "    self.beta = torch.zeros(dim)\n",
        "\n",
        "  def __call__(self, x):\n",
        "    # calculate the forward pass\n",
        "    xmean = x.mean(1, keepdim=True) # batch mean\n",
        "    xvar = x.var(1, keepdim=True) # batch variance\n",
        "    xhat = (x - xmean) / torch.sqrt(xvar + self.eps) # normalize to unit variance\n",
        "    self.out = self.gamma * xhat + self.beta\n",
        "    return self.out\n",
        "\n",
        "  def parameters(self):\n",
        "    return [self.gamma, self.beta]\n",
        "\n",
        "torch.manual_seed(1337)\n",
        "module = LayerNorm1d(100)\n",
        "x = torch.randn(32, 100) # batch size 32 of 100-dimensional vectors\n",
        "x = module(x)\n",
        "x.shape"
      ],
      "metadata": {
        "colab": {
          "base_uri": "https://localhost:8080/"
        },
        "id": "2Num7sX9CKOH",
        "outputId": "5a171464-28f2-42dc-f490-9ee71e5463c8"
      },
      "execution_count": null,
      "outputs": [
        {
          "output_type": "execute_result",
          "data": {
            "text/plain": [
              "torch.Size([32, 100])"
            ]
          },
          "metadata": {},
          "execution_count": 29
        }
      ]
    },
    {
      "cell_type": "code",
      "source": [
        "x[:,0].mean(), x[:,0].std() # mean,std of one feature across all batch inputs"
      ],
      "metadata": {
        "colab": {
          "base_uri": "https://localhost:8080/"
        },
        "id": "633T2cmnW1uk",
        "outputId": "d215ac3c-0bc4-447e-e6e5-145c17769a09"
      },
      "execution_count": null,
      "outputs": [
        {
          "output_type": "execute_result",
          "data": {
            "text/plain": [
              "(tensor(0.1469), tensor(0.8803))"
            ]
          },
          "metadata": {},
          "execution_count": 30
        }
      ]
    },
    {
      "cell_type": "code",
      "source": [
        "x[0,:].mean(), x[0,:].std() # mean,std of a single input from the batch, of its features"
      ],
      "metadata": {
        "colab": {
          "base_uri": "https://localhost:8080/"
        },
        "id": "LN9cK9BoXCYb",
        "outputId": "06577c6d-33f2-47ff-b163-37ac94e47946"
      },
      "execution_count": null,
      "outputs": [
        {
          "output_type": "execute_result",
          "data": {
            "text/plain": [
              "(tensor(-9.5367e-09), tensor(1.0000))"
            ]
          },
          "metadata": {},
          "execution_count": 31
        }
      ]
    },
    {
      "cell_type": "code",
      "source": [
        "# French to English translation example:\n",
        "\n",
        "# <--------- ENCODE ------------------><--------------- DECODE ----------------->\n",
        "# les réseaux de neurones sont géniaux! <START> neural networks are awesome!<END>\n",
        "\n"
      ],
      "metadata": {
        "id": "dRJH6wM_XFfU"
      },
      "execution_count": null,
      "outputs": []
    },
    {
      "cell_type": "markdown",
      "source": [
        "### Full finished code, for reference\n",
        "\n",
        "You may want to refer directly to the git repo instead though."
      ],
      "metadata": {
        "id": "ZcvKeBXoZFOY"
      }
    },
    {
      "cell_type": "code",
      "source": [
        "import torch\n",
        "import torch.nn as nn\n",
        "from torch.nn import functional as F\n",
        "\n",
        "# hyperparameters\n",
        "batch_size = 16 # how many independent sequences will we process in parallel?\n",
        "block_size = 32 # what is the maximum context length for predictions?\n",
        "max_iters = 5000\n",
        "eval_interval = 100\n",
        "learning_rate = 1e-3\n",
        "device = 'cuda' if torch.cuda.is_available() else 'cpu'\n",
        "eval_iters = 200\n",
        "n_embd = 64\n",
        "n_head = 4\n",
        "n_layer = 4\n",
        "dropout = 0.0\n",
        "# ------------\n",
        "\n",
        "torch.manual_seed(1337)\n",
        "\n",
        "# wget https://raw.githubusercontent.com/karpathy/char-rnn/master/data/tinyshakespeare/input.txt\n",
        "with open('input.txt', 'r', encoding='utf-8') as f:\n",
        "    text = f.read()\n",
        "\n",
        "# here are all the unique characters that occur in this text\n",
        "chars = sorted(list(set(text)))\n",
        "vocab_size = len(chars)\n",
        "# create a mapping from characters to integers\n",
        "stoi = { ch:i for i,ch in enumerate(chars) }\n",
        "itos = { i:ch for i,ch in enumerate(chars) }\n",
        "encode = lambda s: [stoi[c] for c in s] # encoder: take a string, output a list of integers\n",
        "decode = lambda l: ''.join([itos[i] for i in l]) # decoder: take a list of integers, output a string\n",
        "\n",
        "# Train and test splits\n",
        "data = torch.tensor(encode(text), dtype=torch.long)\n",
        "n = int(0.9*len(data)) # first 90% will be train, rest val\n",
        "train_data = data[:n]\n",
        "val_data = data[n:]\n",
        "\n",
        "# data loading\n",
        "def get_batch(split):\n",
        "    # generate a small batch of data of inputs x and targets y\n",
        "    data = train_data if split == 'train' else val_data\n",
        "    ix = torch.randint(len(data) - block_size, (batch_size,))\n",
        "    x = torch.stack([data[i:i+block_size] for i in ix])\n",
        "    y = torch.stack([data[i+1:i+block_size+1] for i in ix])\n",
        "    x, y = x.to(device), y.to(device)\n",
        "    return x, y\n",
        "\n",
        "@torch.no_grad()\n",
        "def estimate_loss():\n",
        "    out = {}\n",
        "    model.eval()\n",
        "    for split in ['train', 'val']:\n",
        "        losses = torch.zeros(eval_iters)\n",
        "        for k in range(eval_iters):\n",
        "            X, Y = get_batch(split)\n",
        "            logits, loss = model(X, Y)\n",
        "            losses[k] = loss.item()\n",
        "        out[split] = losses.mean()\n",
        "    model.train()\n",
        "    return out\n",
        "\n",
        "class Head(nn.Module):\n",
        "    \"\"\" one head of self-attention \"\"\"\n",
        "\n",
        "    def __init__(self, head_size):\n",
        "        super().__init__()\n",
        "        self.key = nn.Linear(n_embd, head_size, bias=False)\n",
        "        self.query = nn.Linear(n_embd, head_size, bias=False)\n",
        "        self.value = nn.Linear(n_embd, head_size, bias=False)\n",
        "        self.register_buffer('tril', torch.tril(torch.ones(block_size, block_size)))\n",
        "\n",
        "        self.dropout = nn.Dropout(dropout)\n",
        "\n",
        "    def forward(self, x):\n",
        "        B,T,C = x.shape\n",
        "        k = self.key(x)   # (B,T,C)\n",
        "        q = self.query(x) # (B,T,C)\n",
        "        # compute attention scores (\"affinities\")\n",
        "        wei = q @ k.transpose(-2,-1) * C**-0.5 # (B, T, C) @ (B, C, T) -> (B, T, T)\n",
        "        wei = wei.masked_fill(self.tril[:T, :T] == 0, float('-inf')) # (B, T, T)\n",
        "        wei = F.softmax(wei, dim=-1) # (B, T, T)\n",
        "        wei = self.dropout(wei)\n",
        "        # perform the weighted aggregation of the values\n",
        "        v = self.value(x) # (B,T,C)\n",
        "        out = wei @ v # (B, T, T) @ (B, T, C) -> (B, T, C)\n",
        "        return out\n",
        "\n",
        "class MultiHeadAttention(nn.Module):\n",
        "    \"\"\" multiple heads of self-attention in parallel \"\"\"\n",
        "\n",
        "    def __init__(self, num_heads, head_size):\n",
        "        super().__init__()\n",
        "        self.heads = nn.ModuleList([Head(head_size) for _ in range(num_heads)])\n",
        "        self.proj = nn.Linear(n_embd, n_embd)\n",
        "        self.dropout = nn.Dropout(dropout)\n",
        "\n",
        "    def forward(self, x):\n",
        "        out = torch.cat([h(x) for h in self.heads], dim=-1)\n",
        "        out = self.dropout(self.proj(out))\n",
        "        return out\n",
        "\n",
        "class FeedFoward(nn.Module):\n",
        "    \"\"\" a simple linear layer followed by a non-linearity \"\"\"\n",
        "\n",
        "    def __init__(self, n_embd):\n",
        "        super().__init__()\n",
        "        self.net = nn.Sequential(\n",
        "            nn.Linear(n_embd, 4 * n_embd),\n",
        "            nn.ReLU(),\n",
        "            nn.Linear(4 * n_embd, n_embd),\n",
        "            nn.Dropout(dropout),\n",
        "        )\n",
        "\n",
        "    def forward(self, x):\n",
        "        return self.net(x)\n",
        "\n",
        "class Block(nn.Module):\n",
        "    \"\"\" Transformer block: communication followed by computation \"\"\"\n",
        "\n",
        "    def __init__(self, n_embd, n_head):\n",
        "        # n_embd: embedding dimension, n_head: the number of heads we'd like\n",
        "        super().__init__()\n",
        "        head_size = n_embd // n_head\n",
        "        self.sa = MultiHeadAttention(n_head, head_size)\n",
        "        self.ffwd = FeedFoward(n_embd)\n",
        "        self.ln1 = nn.LayerNorm(n_embd)\n",
        "        self.ln2 = nn.LayerNorm(n_embd)\n",
        "\n",
        "    def forward(self, x):\n",
        "        x = x + self.sa(self.ln1(x))\n",
        "        x = x + self.ffwd(self.ln2(x))\n",
        "        return x\n",
        "\n",
        "# super simple bigram model\n",
        "class BigramLanguageModel(nn.Module):\n",
        "\n",
        "    def __init__(self):\n",
        "        super().__init__()\n",
        "        # each token directly reads off the logits for the next token from a lookup table\n",
        "        self.token_embedding_table = nn.Embedding(vocab_size, n_embd)\n",
        "        self.position_embedding_table = nn.Embedding(block_size, n_embd)\n",
        "        self.blocks = nn.Sequential(*[Block(n_embd, n_head=n_head) for _ in range(n_layer)])\n",
        "        self.ln_f = nn.LayerNorm(n_embd) # final layer norm\n",
        "        self.lm_head = nn.Linear(n_embd, vocab_size)\n",
        "\n",
        "    def forward(self, idx, targets=None):\n",
        "        B, T = idx.shape\n",
        "\n",
        "        # idx and targets are both (B,T) tensor of integers\n",
        "        tok_emb = self.token_embedding_table(idx) # (B,T,C)\n",
        "        pos_emb = self.position_embedding_table(torch.arange(T, device=device)) # (T,C)\n",
        "        x = tok_emb + pos_emb # (B,T,C)\n",
        "        x = self.blocks(x) # (B,T,C)\n",
        "        x = self.ln_f(x) # (B,T,C)\n",
        "        logits = self.lm_head(x) # (B,T,vocab_size)\n",
        "\n",
        "        if targets is None:\n",
        "            loss = None\n",
        "        else:\n",
        "            B, T, C = logits.shape\n",
        "            logits = logits.view(B*T, C)\n",
        "            targets = targets.view(B*T)\n",
        "            loss = F.cross_entropy(logits, targets)\n",
        "\n",
        "        return logits, loss\n",
        "\n",
        "    def generate(self, idx, max_new_tokens):\n",
        "        # idx is (B, T) array of indices in the current context\n",
        "        for _ in range(max_new_tokens):\n",
        "            # crop idx to the last block_size tokens\n",
        "            idx_cond = idx[:, -block_size:]\n",
        "            # get the predictions\n",
        "            logits, loss = self(idx_cond)\n",
        "            # focus only on the last time step\n",
        "            logits = logits[:, -1, :] # becomes (B, C)\n",
        "            # apply softmax to get probabilities\n",
        "            probs = F.softmax(logits, dim=-1) # (B, C)\n",
        "            # sample from the distribution\n",
        "            idx_next = torch.multinomial(probs, num_samples=1) # (B, 1)\n",
        "            # append sampled index to the running sequence\n",
        "            idx = torch.cat((idx, idx_next), dim=1) # (B, T+1)\n",
        "        return idx\n",
        "\n",
        "model = BigramLanguageModel()\n",
        "m = model.to(device)\n",
        "# print the number of parameters in the model\n",
        "print(sum(p.numel() for p in m.parameters())/1e6, 'M parameters')\n",
        "\n",
        "# create a PyTorch optimizer\n",
        "optimizer = torch.optim.AdamW(model.parameters(), lr=learning_rate)\n",
        "\n",
        "for iter in range(max_iters):\n",
        "\n",
        "    # every once in a while evaluate the loss on train and val sets\n",
        "    if iter % eval_interval == 0 or iter == max_iters - 1:\n",
        "        losses = estimate_loss()\n",
        "        print(f\"step {iter}: train loss {losses['train']:.4f}, val loss {losses['val']:.4f}\")\n",
        "\n",
        "    # sample a batch of data\n",
        "    xb, yb = get_batch('train')\n",
        "\n",
        "    # evaluate the loss\n",
        "    logits, loss = model(xb, yb)\n",
        "    optimizer.zero_grad(set_to_none=True)\n",
        "    loss.backward()\n",
        "    optimizer.step()\n",
        "\n",
        "\n"
      ],
      "metadata": {
        "colab": {
          "base_uri": "https://localhost:8080/"
        },
        "id": "hoelkOrFY8bN",
        "outputId": "08d947ce-9456-4e1c-cc8b-edd25b877bef"
      },
      "execution_count": null,
      "outputs": [
        {
          "output_type": "stream",
          "name": "stdout",
          "text": [
            "0.212309 M parameters\n",
            "step 0: train loss 4.5808, val loss 4.5746\n",
            "step 100: train loss 2.7129, val loss 2.8074\n",
            "step 200: train loss 2.5938, val loss 2.6531\n",
            "step 300: train loss 2.5287, val loss 2.5774\n",
            "step 400: train loss 2.4757, val loss 2.5176\n",
            "step 500: train loss 2.3874, val loss 2.4619\n",
            "step 600: train loss 2.3203, val loss 2.3753\n",
            "step 700: train loss 2.2600, val loss 2.3208\n",
            "step 800: train loss 2.2102, val loss 2.2536\n",
            "step 900: train loss 2.1515, val loss 2.2096\n",
            "step 1000: train loss 2.1052, val loss 2.1732\n",
            "step 1100: train loss 2.0496, val loss 2.1051\n",
            "step 1200: train loss 2.0138, val loss 2.0864\n",
            "step 1300: train loss 1.9774, val loss 2.0201\n",
            "step 1400: train loss 1.9429, val loss 2.0084\n",
            "step 1500: train loss 1.8997, val loss 1.9821\n",
            "step 1600: train loss 1.8792, val loss 1.9455\n",
            "step 1700: train loss 1.8609, val loss 1.9345\n",
            "step 1800: train loss 1.8278, val loss 1.9106\n",
            "step 1900: train loss 1.7909, val loss 1.9215\n",
            "step 2000: train loss 1.7839, val loss 1.8836\n",
            "step 2100: train loss 1.7764, val loss 1.8760\n",
            "step 2200: train loss 1.7473, val loss 1.8674\n",
            "step 2300: train loss 1.7250, val loss 1.8421\n",
            "step 2400: train loss 1.7006, val loss 1.8512\n",
            "step 2500: train loss 1.7095, val loss 1.8378\n",
            "step 2600: train loss 1.6903, val loss 1.8316\n",
            "step 2700: train loss 1.6604, val loss 1.8134\n",
            "step 2800: train loss 1.6607, val loss 1.8018\n",
            "step 2900: train loss 1.6483, val loss 1.8003\n",
            "step 3000: train loss 1.6450, val loss 1.7854\n",
            "step 3100: train loss 1.6295, val loss 1.7812\n",
            "step 3200: train loss 1.6014, val loss 1.7756\n",
            "step 3300: train loss 1.6014, val loss 1.7855\n",
            "step 3400: train loss 1.6003, val loss 1.7874\n",
            "step 3500: train loss 1.5798, val loss 1.7740\n",
            "step 3600: train loss 1.5595, val loss 1.7413\n",
            "step 3700: train loss 1.5511, val loss 1.7765\n",
            "step 3800: train loss 1.5446, val loss 1.7529\n",
            "step 3900: train loss 1.5621, val loss 1.7580\n",
            "step 4000: train loss 1.5278, val loss 1.7382\n",
            "step 4100: train loss 1.5326, val loss 1.7503\n",
            "step 4200: train loss 1.5321, val loss 1.7285\n",
            "step 4300: train loss 1.5221, val loss 1.7556\n",
            "step 4400: train loss 1.5040, val loss 1.7579\n",
            "step 4500: train loss 1.4926, val loss 1.7462\n",
            "step 4600: train loss 1.4915, val loss 1.7522\n",
            "step 4700: train loss 1.4867, val loss 1.7230\n",
            "step 4800: train loss 1.4805, val loss 1.7306\n",
            "step 4900: train loss 1.4632, val loss 1.7495\n",
            "step 4999: train loss 1.4579, val loss 1.7347\n"
          ]
        }
      ]
    },
    {
      "cell_type": "code",
      "source": [
        "# generate from the model\n",
        "\n",
        "# Ask the user for a prompt\n",
        "user_prompt = input(\"Enter a prompt: \")\n",
        "\n",
        "# Encode the user's prompt\n",
        "prompt_encoded = encode(user_prompt)\n",
        "\n",
        "# Generate text based on the user's prompt\n",
        "generated_text = decode(m.generate(torch.tensor([prompt_encoded], dtype=torch.long, device=device), max_new_tokens=2000)[0].tolist())\n",
        "\n",
        "# Print the generated text based on the user's prompt\n",
        "print(\"\\n\\n\\nGenerated Text with User's Prompt:\\n\\n\")\n",
        "print(generated_text)"
      ],
      "metadata": {
        "id": "fjjvMifYZf7x",
        "outputId": "f07d61a5-5df5-4783-8802-c1ff75f87313",
        "colab": {
          "base_uri": "https://localhost:8080/"
        }
      },
      "execution_count": null,
      "outputs": [
        {
          "output_type": "stream",
          "name": "stdout",
          "text": [
            "Enter a prompt: Let us all take our nation to the new \n",
            "\n",
            "\n",
            "\n",
            "Generated Text with User's Prompt:\n",
            "\n",
            "\n",
            "Let us all take our nation to the new e-there\n",
            "My Willh has results leap instared\n",
            "Uprocencals hum they also not has infother fam is Contoga\n",
            "Stemplambe is the couragew a buinely sfully\n",
            "I hae donailes are a soubjuch oters was congratul alliats – thank you\n",
            "Uspored up con greath Bhagya\n",
            "This annutrun is of very has been this\n",
            "Differeent must condersting the -dall Ecrist onerings live\n",
            "Kishorilal ji was rote and tuke the nations\n",
            "297 has accident for India\n",
            "as metam ji has des been history the voilluted\n",
            "Uld vet enew bestages campaigge\n",
            "Assiver that cleaselinemsple invites\n",
            "They stant were also here\n",
            "Yoga he dujitash has his 'Mos\n",
            "Inn Prime Ministerala –- \n",
            "whole did, but des\n",
            "But day as this well news vigge\n",
            "What have take to All you Prem Premmem \n",
            "Thank you very much hage were will do so\n",
            "Milike to the meet to speason\n",
            "we well be your to here\n",
            "Shile stred took a countroctine\n",
            "20th us and the 75th your 2th \n",
            "Hello all competing find dis\n",
            "That is is all of 19d Symber! \n",
            "Such Raidy cultured havasted cappled there were conecciving feel difficition\n",
            "should, tower is Haryanesh\n",
            "This is they exploy decosent from wings will go had 'Mann is started in the gaxtive youth shore dow and ‘I’regurk\n",
            "Bet thes very fith once, I Shadiann Very dociding doing\n",
            "He healutionall\n",
            "Many stralks interested will was also hold I have digare concembed of this\n",
            "Modi ji - many fand this contay you rehind, wivery scame domagy humane\n",
            "day just have high searm lives of Jagnard.\n",
            "The posere at also have to betten \n",
            "“Linatinal\n",
            "I is been an they here senses fried a moned.\n",
            "Divernal great will bet brincanded that\n",
            "And mastent is Rama have fewsters\n",
            "This is the powerm of of on the great to phore have bother to allectful set’s funders womith \n",
            "I well6t Okhmous takh has these have sail not example and for ‘Ingites and lifelime from the was been life ervocefully,\n",
            "Bed forejapp divaning in thescored this too!\n",
            "So how! you hustage\n",
            "and marking a tooday, of to build the can well\n",
            "Vish suggetions: \n",
            "They really in mile son? Modi Charan Modi ister there is Ince not be come sir\n",
            "So sultsimical\n"
          ]
        }
      ]
    }
  ]
}